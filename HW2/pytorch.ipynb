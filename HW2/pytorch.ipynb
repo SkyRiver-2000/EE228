{
 "cells": [
  {
   "cell_type": "markdown",
   "metadata": {},
   "source": [
    "# Pytorch Tutorial"
   ]
  },
  {
   "cell_type": "markdown",
   "metadata": {},
   "source": [
    "Pytorch is a popular deep learning framework and it's easy to get started."
   ]
  },
  {
   "cell_type": "code",
   "execution_count": 6,
   "metadata": {
    "ExecuteTime": {
     "end_time": "2020-03-28T15:51:41.627589Z",
     "start_time": "2020-03-28T15:51:41.622607Z"
    }
   },
   "outputs": [],
   "source": [
    "import torch\n",
    "import torch.nn as nn\n",
    "import torch.utils.data as data\n",
    "import torchvision\n",
    "import torchvision.transforms as transforms\n",
    "from tqdm import tqdm, trange\n",
    "from torch import optim\n",
    "from torch.autograd import Variable\n",
    "import time\n",
    "\n",
    "BATCH_SIZE = 128\n",
    "NUM_EPOCHS = 10"
   ]
  },
  {
   "cell_type": "markdown",
   "metadata": {},
   "source": [
    "First, we read the mnist data, preprocess them and encapsulate them into dataloader form."
   ]
  },
  {
   "cell_type": "code",
   "execution_count": 7,
   "metadata": {
    "ExecuteTime": {
     "end_time": "2020-03-28T15:51:44.527833Z",
     "start_time": "2020-03-28T15:51:44.492923Z"
    }
   },
   "outputs": [],
   "source": [
    "# preprocessing\n",
    "normalize = transforms.Normalize(mean=[.5], std=[.5])\n",
    "transform = transforms.Compose([transforms.ToTensor(), normalize])\n",
    "\n",
    "# download and load the data\n",
    "train_dataset = torchvision.datasets.MNIST(root='./mnist/', train=True, transform=transform, download=True)\n",
    "test_dataset = torchvision.datasets.MNIST(root='./mnist/', train=False, transform=transform, download=False)\n",
    "\n",
    "# encapsulate them into dataloader form\n",
    "train_loader = data.DataLoader(train_dataset, batch_size=BATCH_SIZE, shuffle=True, drop_last=True)\n",
    "test_loader = data.DataLoader(test_dataset, batch_size=BATCH_SIZE, shuffle=False, drop_last=True)"
   ]
  },
  {
   "cell_type": "markdown",
   "metadata": {},
   "source": [
    "Then, we define the model, object function and optimizer that we use to classify."
   ]
  },
  {
   "cell_type": "code",
   "execution_count": 8,
   "metadata": {
    "ExecuteTime": {
     "end_time": "2020-03-28T15:51:48.808672Z",
     "start_time": "2020-03-28T15:51:48.666754Z"
    }
   },
   "outputs": [],
   "source": [
    "class SimpleNet(nn.Module):\n",
    "# TODO:define model\n",
    "    def __init__(self):\n",
    "        super(SimpleNet, self).__init__()\n",
    "        self.layer_1 = torch.nn.Sequential(torch.nn.Conv2d(1, 64, kernel_size = 3, stride = 1, padding = 1),\n",
    "                                        torch.nn.ReLU(),\n",
    "                                        torch.nn.Conv2d(64, 128, kernel_size = 3,stride = 1,padding = 1),\n",
    "                                        torch.nn.ReLU(),\n",
    "                                        torch.nn.MaxPool2d(stride = 2, kernel_size = 2))\n",
    "        self.layer_2 = torch.nn.Sequential(torch.nn.Linear(14 * 14  * 128, 1024),\n",
    "                                        torch.nn.ReLU(),\n",
    "                                        torch.nn.Dropout(p = 0.5),\n",
    "                                        torch.nn.Linear(1024, 10))\n",
    "    \n",
    "    def forward(self, x):\n",
    "        x = self.layer_1(x)\n",
    "        x = x.view(-1, 14 * 14 * 128)\n",
    "        x = self.layer_2(x)\n",
    "        return x\n",
    "    \n",
    "model = SimpleNet()\n",
    "\n",
    "# TODO:define loss function and optimizer\n",
    "criterion = nn.CrossEntropyLoss()\n",
    "optimizer = optim.Adam(model.parameters(), lr = 0.001)"
   ]
  },
  {
   "cell_type": "markdown",
   "metadata": {},
   "source": [
    "Next, we can start to train and evaluate!"
   ]
  },
  {
   "cell_type": "code",
   "execution_count": 9,
   "metadata": {
    "ExecuteTime": {
     "end_time": "2020-03-28T17:44:10.741270Z",
     "start_time": "2020-03-28T15:52:25.597940Z"
    },
    "scrolled": true
   },
   "outputs": [
    {
     "name": "stderr",
     "output_type": "stream",
     "text": [
      "100%|████████████████████████████████████████████████████████████████████████████████| 468/468 [06:50<00:00,  1.14it/s]\n",
      "100%|██████████████████████████████████████████████████████████████████████████████████| 78/78 [00:23<00:00,  3.36it/s]\n"
     ]
    },
    {
     "name": "stdout",
     "output_type": "stream",
     "text": [
      "Training Accuracy: 95.00%\n",
      "Testing Accuracy: 98.00%\n"
     ]
    },
    {
     "name": "stderr",
     "output_type": "stream",
     "text": [
      "100%|████████████████████████████████████████████████████████████████████████████████| 468/468 [07:12<00:00,  1.08it/s]\n",
      "100%|██████████████████████████████████████████████████████████████████████████████████| 78/78 [00:22<00:00,  3.40it/s]\n"
     ]
    },
    {
     "name": "stdout",
     "output_type": "stream",
     "text": [
      "Training Accuracy: 98.00%\n",
      "Testing Accuracy: 98.00%\n"
     ]
    },
    {
     "name": "stderr",
     "output_type": "stream",
     "text": [
      "100%|████████████████████████████████████████████████████████████████████████████████| 468/468 [07:15<00:00,  1.07it/s]\n",
      "100%|██████████████████████████████████████████████████████████████████████████████████| 78/78 [00:23<00:00,  3.38it/s]\n"
     ]
    },
    {
     "name": "stdout",
     "output_type": "stream",
     "text": [
      "Training Accuracy: 98.00%\n",
      "Testing Accuracy: 98.00%\n"
     ]
    },
    {
     "name": "stderr",
     "output_type": "stream",
     "text": [
      "100%|████████████████████████████████████████████████████████████████████████████████| 468/468 [07:14<00:00,  1.08it/s]\n",
      "100%|██████████████████████████████████████████████████████████████████████████████████| 78/78 [00:23<00:00,  3.39it/s]\n"
     ]
    },
    {
     "name": "stdout",
     "output_type": "stream",
     "text": [
      "Training Accuracy: 99.00%\n",
      "Testing Accuracy: 98.00%\n"
     ]
    },
    {
     "name": "stderr",
     "output_type": "stream",
     "text": [
      "100%|████████████████████████████████████████████████████████████████████████████████| 468/468 [43:10<00:00,  5.53s/it]\n",
      "100%|██████████████████████████████████████████████████████████████████████████████████| 78/78 [00:21<00:00,  3.56it/s]\n"
     ]
    },
    {
     "name": "stdout",
     "output_type": "stream",
     "text": [
      "Training Accuracy: 99.00%\n",
      "Testing Accuracy: 98.00%\n"
     ]
    },
    {
     "name": "stderr",
     "output_type": "stream",
     "text": [
      "100%|████████████████████████████████████████████████████████████████████████████████| 468/468 [07:05<00:00,  1.10it/s]\n",
      "100%|██████████████████████████████████████████████████████████████████████████████████| 78/78 [00:23<00:00,  3.27it/s]\n"
     ]
    },
    {
     "name": "stdout",
     "output_type": "stream",
     "text": [
      "Training Accuracy: 99.00%\n",
      "Testing Accuracy: 98.00%\n"
     ]
    },
    {
     "name": "stderr",
     "output_type": "stream",
     "text": [
      "100%|████████████████████████████████████████████████████████████████████████████████| 468/468 [07:15<00:00,  1.08it/s]\n",
      "100%|██████████████████████████████████████████████████████████████████████████████████| 78/78 [00:23<00:00,  3.38it/s]\n"
     ]
    },
    {
     "name": "stdout",
     "output_type": "stream",
     "text": [
      "Training Accuracy: 99.00%\n",
      "Testing Accuracy: 98.00%\n"
     ]
    },
    {
     "name": "stderr",
     "output_type": "stream",
     "text": [
      "100%|████████████████████████████████████████████████████████████████████████████████| 468/468 [07:16<00:00,  1.07it/s]\n",
      "100%|██████████████████████████████████████████████████████████████████████████████████| 78/78 [00:23<00:00,  3.39it/s]\n"
     ]
    },
    {
     "name": "stdout",
     "output_type": "stream",
     "text": [
      "Training Accuracy: 99.00%\n",
      "Testing Accuracy: 98.00%\n"
     ]
    },
    {
     "name": "stderr",
     "output_type": "stream",
     "text": [
      "100%|████████████████████████████████████████████████████████████████████████████████| 468/468 [07:15<00:00,  1.07it/s]\n",
      "100%|██████████████████████████████████████████████████████████████████████████████████| 78/78 [00:23<00:00,  3.37it/s]\n"
     ]
    },
    {
     "name": "stdout",
     "output_type": "stream",
     "text": [
      "Training Accuracy: 99.00%\n",
      "Testing Accuracy: 98.00%\n"
     ]
    },
    {
     "name": "stderr",
     "output_type": "stream",
     "text": [
      "100%|████████████████████████████████████████████████████████████████████████████████| 468/468 [07:17<00:00,  1.07it/s]\n",
      "100%|██████████████████████████████████████████████████████████████████████████████████| 78/78 [00:22<00:00,  3.41it/s]\n"
     ]
    },
    {
     "name": "stdout",
     "output_type": "stream",
     "text": [
      "Training Accuracy: 99.00%\n",
      "Testing Accuracy: 98.00%\n"
     ]
    }
   ],
   "source": [
    "# train and evaluate\n",
    "for epoch in range(NUM_EPOCHS):\n",
    "    train_correct, train_total = 0, len(train_dataset)\n",
    "    test_correct, test_total = 0, len(test_dataset)\n",
    "    for images, labels in tqdm(train_loader):\n",
    "        # TODO:forward + backward + optimize\n",
    "        X_train, y_train = Variable(images), Variable(labels)\n",
    "        optimizer.zero_grad()\n",
    "        outputs = model(X_train)\n",
    "        _, y_pred = torch.max(outputs, 1)\n",
    "        train_correct += torch.sum(y_pred == y_train.data)\n",
    "        loss = criterion(outputs, y_train)\n",
    "        loss.backward()\n",
    "        optimizer.step()\n",
    "        \n",
    "    # evaluate\n",
    "    # TODO:calculate the accuracy using traning and testing dataset\n",
    "    for images, labels in tqdm(test_loader):\n",
    "        X_test, y_test = Variable(images), Variable(labels)\n",
    "        outputs = model(X_test)\n",
    "        _, y_pred = torch.max(outputs, 1)\n",
    "        test_correct += torch.sum(y_pred == y_test.data)\n",
    "        \n",
    "    print(\"Training Accuracy: {:.2f}%\".format(100 * train_correct / train_total))\n",
    "    print(\"Testing Accuracy: {:.2f}%\".format(100 * test_correct / test_total))"
   ]
  },
  {
   "cell_type": "markdown",
   "metadata": {},
   "source": [
    "#### Q5:\n",
    "Please print the training and testing accuracy."
   ]
  },
  {
   "cell_type": "code",
   "execution_count": 10,
   "metadata": {
    "ExecuteTime": {
     "end_time": "2020-03-28T18:03:21.591994Z",
     "start_time": "2020-03-28T18:00:47.044522Z"
    }
   },
   "outputs": [
    {
     "name": "stderr",
     "output_type": "stream",
     "text": [
      "100%|████████████████████████████████████████████████████████████████████████████████| 468/468 [02:10<00:00,  3.58it/s]\n",
      "100%|██████████████████████████████████████████████████████████████████████████████████| 78/78 [00:23<00:00,  3.28it/s]\n"
     ]
    },
    {
     "name": "stdout",
     "output_type": "stream",
     "text": [
      "Training Accuracy: 99.00%\n",
      "Testing Accuracy: 98.00%\n"
     ]
    }
   ],
   "source": [
    "model.eval()\n",
    "train_correct, train_total = 0, len(train_dataset)\n",
    "test_correct, test_total = 0, len(test_dataset)\n",
    "\n",
    "for images, labels in tqdm(train_loader):\n",
    "    X_train, y_train = Variable(images), Variable(labels)\n",
    "    outputs = model(X_train)\n",
    "    _, y_pred = torch.max(outputs, 1)\n",
    "    train_correct += torch.sum(y_pred == y_train.data)\n",
    "\n",
    "for images, labels in tqdm(test_loader):\n",
    "    X_test, y_test = Variable(images), Variable(labels)\n",
    "    outputs = model(X_test)\n",
    "    _, y_pred = torch.max(outputs, 1)\n",
    "    test_correct += torch.sum(y_pred == y_test.data)\n",
    "    \n",
    "print(\"Training Accuracy: {:.2f}%\".format(100 * train_correct / train_total))\n",
    "print(\"Testing Accuracy: {:.2f}%\".format(100 * test_correct / test_total))"
   ]
  },
  {
   "cell_type": "code",
   "execution_count": null,
   "metadata": {},
   "outputs": [],
   "source": []
  }
 ],
 "metadata": {
  "kernelspec": {
   "display_name": "Python 3",
   "language": "python",
   "name": "python3"
  },
  "language_info": {
   "codemirror_mode": {
    "name": "ipython",
    "version": 3
   },
   "file_extension": ".py",
   "mimetype": "text/x-python",
   "name": "python",
   "nbconvert_exporter": "python",
   "pygments_lexer": "ipython3",
   "version": "3.7.4"
  },
  "varInspector": {
   "cols": {
    "lenName": 16,
    "lenType": 16,
    "lenVar": 40
   },
   "kernels_config": {
    "python": {
     "delete_cmd_postfix": "",
     "delete_cmd_prefix": "del ",
     "library": "var_list.py",
     "varRefreshCmd": "print(var_dic_list())"
    },
    "r": {
     "delete_cmd_postfix": ") ",
     "delete_cmd_prefix": "rm(",
     "library": "var_list.r",
     "varRefreshCmd": "cat(var_dic_list()) "
    }
   },
   "types_to_exclude": [
    "module",
    "function",
    "builtin_function_or_method",
    "instance",
    "_Feature"
   ],
   "window_display": false
  }
 },
 "nbformat": 4,
 "nbformat_minor": 2
}
